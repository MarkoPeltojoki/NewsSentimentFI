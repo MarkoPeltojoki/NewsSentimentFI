{
  "cells": [
    {
      "cell_type": "markdown",
      "metadata": {},
      "source": [
        "# News Search\n",
        "\n",
        "Search News for Finland using Bing News Search.\n",
        "\n",
        "https://docs.microsoft.com/en-us/azure/cognitive-services/bing-news-search/python"
      ]
    },
    {
      "cell_type": "code",
      "execution_count": 1,
      "metadata": {},
      "outputs": [
        {
          "name": "stdout",
          "output_type": "stream",
          "text": "['Olet lukenut 0/5 maksutonta uutista. Kartonkitehtaan työntekijä loukkaantui kolme vuotta sitten syksyllä, kun hän poisti käsin kartongin palasia arkkileikkurista, kun kone oli käynnissä. Yle: Työntekijä tunki kätensä leikkuriin kielloista huolimatta – Stora Ensolle sakot', 'Suuri osa ensikertaisia Vasemmistoliiton puoluekokous harjoitteli eilen äänestyskapulan käyttöä äänestämällä kokoukseen osallistumiskerroista. Peräti 120 kokousedustajaa on ensikertalaista paikalla Kuopion yhdeksännessä puoluekokouksessa. Toista tai kolmatta kertaa on 77 eli kaksi kolmasosaa edustaj', 'Uudet autot ovat nykyisin tietokoneita, joissa on neljä rengasta. Kuka omistaa oikeasti auton tuottaman datan? Antti Mannermaa Uudet autot tuottavat valtavan määrän tietoa eli dataa auton toiminnasta. Mutta kuka oikeasti omistaa ja pääsee käsiksi tähän datamäärään? Modernit ajoneuvot', '&quot;Mestari-Meesseman&quot; on Belgian pelin sielu. 16.11.2019 11:03 Suomalaiselle urheiluväelle tarjoutuu sunnuntaina mahdollisuus nähdä yksi maailman parhaista koripalloilijoista tositoimissa, kun WNBA:n finaalien arvokkaimmaksi pelaajaksi valittu 193-senttinen, 26-vuotias Emma Meesseman johtaa Belgian EM-karsintaotteluun Susiladiesia vastaan ...', 'Jättioperaattori Vodafonella on vireillä laaja hanke tarjota uusia mobiilipalveluja Brittein saarten kaikkein kaukaisimmissakin kolkissa. Tämän markkinointirynnistyksen yhtenä sivutuotteena on syntynyt palvelu, jossa futismatsien loppukäyttäjät voivat älypuhelimillaan vaikuttaa erotuomareiden päätöksiin - tosiajassa ja vaikka omilta ...', 'Työministeri Timo Harakka (sd) vakuuttaa, että vuodenvaihteessa lakkautettava aktiivimalli haudataan kuuluisiin Atlantin syvyyksiin. ”Aamiainen Jari Korkin kanssa” -videosarjassa hän kuitenkin myöntää, ettei haukutun mallin kuoppaaminen ratkaise itse ongelmaa eli työttömän aktivoimista', 'Laulajakaunotar Virpi Kätkä käänsi katseita marketin hyllyjen välissä – kuva! Tänään se tapahtuu! Suomalainen Elina, 33, kiipeää ilman oppaita maailman vaarallisimmalle vuorelle – myöntää pelkäävänsä: ”Viimeinen puhelu äidille ja isälle”', 'Kuulen tämän kysymyksen usein tes-neuvotteluiden aikaan. No, aloitetaanpa ihan alusta. Kuulutko itse ammattiliittoon? Ja ei, ei ole olemassa ”Loimaan liittoa”. On olemassa Loimaan kassa, YTK, joka on työnantajien perustama kassa. Olen myös kuullut kysymyksen ”Miksei PAM (eli ammattiliittoni) ole sop', 'JavaScript tulee olla käytössä pystyäksesi näkemään sivun sisällön. Ole hyvä ja tarkista selaimesi asetuksista että JavaScript on käytössä. Ajokiellossa ollut mies rysäytti autollaan ojaan Siilinjärven Laitilantiellä lauantaiaamuna kello viiden aikaan. Mies puhalsi poliisin', 'Työelämän kehittäminen painottui aikaisemmin erityisesti vanhempiin työntekijäryhmiin. Tavoitteena oli tukea työssä jatkamista, pidentää työuria ja myöhentää eläkkeelle siirtymistä. Siitä ei ole pitkää aikaa, kun osa työntekijöistä vielä luokiteltiin ”ikääntyneiksi', 'Rovakatu 32, 96200 Rovaniemi Valtakatu 10, 94100 Kemi Länsiranta 10, 1. krs, 95400 Tornio Sodankylä / Elina Melamies 040 661 9409 Inari ja Utsjoki / Olli Miettunen 044 595 9668', 'Hämeen poliisin partio oli perjantaina iltapäivällä selvittämässä toista rikosta Lahden keskustassa kauppakeskus Triossa, kun vartija tuli kertomaan tiloissa tapahtuneesta huumausainerikoksesta. Poliisin mukaan 42-vuotias mies oli tarjonnut neljälle nuorelle amfetamiinia. Nuoret eivät', 'Iäkäs rattijuoppo törmäsi vastaantulleeseen autoon valtatie kymmenen ja Äikkääntien risteyksessä Tammelassa perjantaina.Humalassa liikenteeseen lähtenyt iäkäs mies oli kääntymässä Äikkääntieltä valtatielle, mutta hän ei huomannut samaan aikaan valtatiellä Hämeenlinnan suunnasta', 'Puijon Pesis ja Joensuun Maila ovat solmineet strategisen kumppanuussopimuksen. Sopimuksen avulla Savo-Karjalan alueelle luodaan vahva seurapari. Seurojen tarkoituksena on kasvattaa mielenkiintoa pesäpalloon ja kehittää itäsuomalaista pelaajapolkua. Facebook Twitter Kuopio ja Joensuu ovat omien', 'Suomen jalkapallomaajoukkueen historiallinen EM-kisapaikka aiheutti Suomessa valtavan hurmoksen. Kokenut puolustaja Joona Toivio ei osannut ennakoida, että katsojat juoksisivat kentälle. - Päässä löi vähän tyhjää, eikä sitä havainnoinut, mitä tapahtui. Yhtäkkiä oltiinkin ihmismeren', 'Suomessa on vasemmistolaisin hallitus 1970-luvun alun jälkeen. Pääministerinä on ammattiliittojen tuella asemiinsa noussut ay-jyrä. Kuitenkin maata uhkaa pahin lakkoaalto vuosikymmeniin. Tavanomaisesti postilakko nauttii aluksi laajaa myötätuntoa. Entä, jos se venyy varoitusten mukaan', 'Tietokirjallisuuden edistämispalkinto myönnetään henkilölle, joka on ansiokkaasti edistänyt tietokirjallisuuden ja tietokirjailijoiden asemaa.', 'Suomen miesten jalkapallomaajoukkueen päävalmentajasta Markku Kanervasta on tullut kulttihahmo. Lapsuuden pihapeleistä periytyvän Rive-lempinimen lisäksi on puhuttu riveluutiosta, Riven valmentaman joukkueen evoluutiosta tai revoluutiosta eli vallankumouksesta. Kirjailija Miika Nousiainen, lehtikuvaaja Martti Kainulainen ja entinen ...', '42- ja 23-vuotiaita miehiä epäillään huumausainerikoksista. Lahti 16.11.2019 klo 11.05 Hämeen poliisi otti kiinni kaksi huumekauppiasta Lahdessa perjantaina. Epäillyt rikokset tapahtuivat kauppakeskuksessa. Molemmissa tapauksissa huumeita tarjottiin nuorille, poliisi kertoo. Ensimmäinen teko', 'Urheilutoimittaja Kaj ”Kaitsu” Kunnas, 56, on saanut kutsun Linnan juhliin. Kaitsu sanoo kutsun olleen iloinen yllätys. - Kivahan se on tuollainen kutsu saada. Lämmittää mieltä, tulee nöyrä olo. Lue myös: Kaj Kunnas hämmästyi Lauri Markkasen fanitapaamisesta – ”On tämä huikeaa', 'Olet lukenut 1/5 maksutonta uutista. Vasemmistoliitto on kokoontunut kolmipäiväiseen puoluekokoukseen Kuopioon. Vasemmistoliiton puheenjohtaja Li Andersson. Antti Mannermaa Ministeri Li Andersson latasi kovaa tekstiä Audi-miehistä ja ”mersupersuista” – syyttää haluista leikata julkisia', 'Vihdoin se oikea. Raaseporissa asuva Tony Troberg, 50, on aina ollut kova saunomaan ja kokeillut elämässään monenlaisia kiukaita, mutta löylyistä on aina puuttunut se jokin, joka tekisi saunomisesta täydellistä. Niinpä mies päätti tehdä kiukaan itse. Hän löysi roskalavalta kotimaisen', 'Ravintola. Jeti’s Kebab sai alkunsa vauhdikkaasta viikonlopusta Tallinnassa.Kuva: SAMI LOTILA Jeti’s Kebab -ravintola sai alkunsa vauhdikkaasta viikonlopusta Tallinnassa. Lukuaika noin 2 min Tallinna Kovassa vauhdissa oleva, yli miljoona euroa viime vuonna tienannut kiinteistönvälittäjä ja', 'JavaScript tulee olla käytössä pystyäksesi näkemään sivun sisällön. Ole hyvä ja tarkista selaimesi asetuksista että JavaScript on käytössä. Yorkin herttua prinssi Andrew sanoo, ettei muista ikinä tavanneensa naista, joka syyttää häntä ja edesmennyttä amerikkalaismiljonääri', 'Pelicansin A-nuoret kohtaavat jääkiekon SM-liigassa Sportin. Sport kaatoi viime keväänä lahtelaiset pronssiottelussa maalein 2-0. Tämä kausi on kuitenkin alkanut Sportilta varsin vaisusti. Vaasalaiset ovat hävinneet 22 pelistään peräti 17 ja ovat sarjassa toiseksi viimeisinä. Joukkueet', 'Työelämän kehittämisen kohteet muuttuvat. Tällä hetkellä huomio kiinnittyy nuoriin ikäryhmiin. Kun elämänhallinnan perusasioita ei ole opittu perheessä ja koulussa, ongelmat siirtyvät työpaikoille. Pelaaminen ja sosiaalinen media vievät monen nuoren työntekijän aikaa niin, että uni', 'Fluoripelko saa ihmiset lopettamaan tavallisten hammastahnojen käytön. Suomalaisten usko vaihtoehtohoitoihin on vähentynyt, mutta yhä varsin moni luottaa luontaislääkkeisiin. Tämä todetaan tuoreessa Tiedebarometrissä. Kurkuma ja punariisi ovat esimerkkejä luonnon omista tuotteista, joiden', 'Suomen jalkapallomaajoukkueen historiallisen saavutuksen kunniaksi koko Suomi on tervetullut Kansalaistorille Helsinkiin. Palloliitto kertoo, että kansanjuhla järjestetään ensi tiistaina 19. marraskuuta kello 19 alkaen. Koko Huuhkajien joukkueen lisäksi lavalle ovat lupautuneet ainakin JVG', 'Voiko 56-vuotiaana saada samoja säväreitä kuin 16-vuotiaana? Kannattaako kokeilla? Uskaltaako kokeilla? Vai onko edessä vain paha pettymys? Kysymykset nousivat mieleen, kun Hassisen kone ilmoitti soittavansa ensi kesänä keikkoja alkuperäisellä vuoden 1980 kokoonpanollaan 40-vuotisuuden', 'Vahvin kannatus joulujuhlan pidolle kirkossa on oppositiossa, jossa kaikki vastasivat kyllä kirkolle joulujuhlapaikkana. Eduskunnan apulaisoikeusasiamies linjasi viime viikolla että, koulun joulujuhla on osa opetussuunnitelmaa eikä sitä saa järjestää kirkossa uskonnollisesti', 'Marko ja Milla Asell ovat samaa mieltä kuin Autokoululiitto: Liukasrataharjoittelu tulisi palauttaa ajo-opetukseen. Ajoharjoitteluratoja on lakkautettu eri puolilla Suomea sen jälkeen, kun niiden käyttö ei enää ole pakollista ajokortin saamiseksi.', '&quot;Aloin oikein pohtia uutuuden viehätystä. Ei niitä lumiukkoja nimittäin ihan tuohon tahtiin pitkin talvea pyöritellä, mutta ensilumi jaksaa erityisesti viehättää.&quot; Ensilumi tuli ja lapset olivat innoissaan. Heti kun maa oli vähänkään valkoinen, juoksi koko kolmikko pihalle', 'Tikkanen onnistuu toivon mukaan ainakin kumoamaan perimätiedon virheitä, joita yhä liikkuu susien vuosina 1880–82 tekemistä lapsisurmista. Jouni Tikkanen: Lauma. 1880-luvun lastensurmat ja susiviha Suomessa. 272 sivua. Otava Jaa Facebookiin Jaa Twitteriin Jaa WhatsAppissa Jaa Sähköpostiin', 'Peltojen laajamittainen metsitys erityisesti turvemailla nousi perjantaina esiin yhtenä monista toimista, joiden avulla Suomesta voi tulla hallituksen tavoitteen mukaisesti hiilineutraali jo vuoteen 2035 mennessä. Voit lukea tämän artikkelin, jos olet Karjalaisen tilaaja', 'Radio 1899: Väräjämätön elokuva nähtävissä – kiertävä elo\\xadku\\xadva\\xadteat\\xadte\\xadri ilahdutti Oulun nuorisoa tammikuussa 1906 Tykkää Kommentoi JAA: Kaleva Podcast 16.11.2019 6:00 Kaleva Ouluun on saatu kiertävä elokuvateatteri, jossa joka viikko on uusi suuremmoinen ohjelma', '36 joukkuetta osallistuu miesten suomensarjaan ja 39 joukkuetta naisten suomensarjaan kaudella 2020. Aiemmin tiedotettujen lisäksi Pesäpalloliiton operatiivinen johtoryhmä on myöntänyt Pesäkarhuille Porista toisen naisten suomensarjapaikan. Facebook Twitter Miesten maakuntasarjan vaihtavat', 'Solakka varas mahtui vaneriluukusta varkaisiin ja tiesi, mitä vei Voikkaalla — Pimeä on saanut murtovarkaat liikkeelle Kouvolassa. Epämääräisistä autoista ja liikkujista kannattaa ottaa rekisteritunnus ja tuntomerkit ylös, poliisi neuvoo.', 'Oulusta loppunut puu ja turve sanoo paikallisen energiayhtiön johtaja. Hinnat nousee kun lähipitäjistä aletaan kuskaamaan. Vettä tulee kuulemma samassa kuormasa senverran että me oululaiset voidaan olla ylpeitä omasta puhtaasta pohjavedestäkin. Onneksi olemme omavaraisia täällä Oulusa']\n"
        },
        {
          "data": {
            "text/html": "<table><tr><td>Olet lukenut 0/5 maksutonta uutista. Kartonkitehtaan työntekijä loukkaantui kolme vuotta sitten syksyllä, kun hän poisti käsin kartongin palasia arkkileikkurista, kun kone oli käynnissä. Yle: Työntekijä tunki kätensä leikkuriin kielloista huolimatta – Stora Ensolle sakot</td></tr>\n<tr><td>Suuri osa ensikertaisia Vasemmistoliiton puoluekokous harjoitteli eilen äänestyskapulan käyttöä äänestämällä kokoukseen osallistumiskerroista. Peräti 120 kokousedustajaa on ensikertalaista paikalla Kuopion yhdeksännessä puoluekokouksessa. Toista tai kolmatta kertaa on 77 eli kaksi kolmasosaa edustaj</td></tr>\n<tr><td>Uudet autot ovat nykyisin tietokoneita, joissa on neljä rengasta. Kuka omistaa oikeasti auton tuottaman datan? Antti Mannermaa Uudet autot tuottavat valtavan määrän tietoa eli dataa auton toiminnasta. Mutta kuka oikeasti omistaa ja pääsee käsiksi tähän datamäärään? Modernit ajoneuvot</td></tr>\n<tr><td>&quot;Mestari-Meesseman&quot; on Belgian pelin sielu. 16.11.2019 11:03 Suomalaiselle urheiluväelle tarjoutuu sunnuntaina mahdollisuus nähdä yksi maailman parhaista koripalloilijoista tositoimissa, kun WNBA:n finaalien arvokkaimmaksi pelaajaksi valittu 193-senttinen, 26-vuotias Emma Meesseman johtaa Belgian EM-karsintaotteluun Susiladiesia vastaan ...</td></tr>\n<tr><td>Jättioperaattori Vodafonella on vireillä laaja hanke tarjota uusia mobiilipalveluja Brittein saarten kaikkein kaukaisimmissakin kolkissa. Tämän markkinointirynnistyksen yhtenä sivutuotteena on syntynyt palvelu, jossa futismatsien loppukäyttäjät voivat älypuhelimillaan vaikuttaa erotuomareiden päätöksiin - tosiajassa ja vaikka omilta ...</td></tr>\n<tr><td>Työministeri Timo Harakka (sd) vakuuttaa, että vuodenvaihteessa lakkautettava aktiivimalli haudataan kuuluisiin Atlantin syvyyksiin. ”Aamiainen Jari Korkin kanssa” -videosarjassa hän kuitenkin myöntää, ettei haukutun mallin kuoppaaminen ratkaise itse ongelmaa eli työttömän aktivoimista</td></tr>\n<tr><td>Laulajakaunotar Virpi Kätkä käänsi katseita marketin hyllyjen välissä – kuva! Tänään se tapahtuu! Suomalainen Elina, 33, kiipeää ilman oppaita maailman vaarallisimmalle vuorelle – myöntää pelkäävänsä: ”Viimeinen puhelu äidille ja isälle”</td></tr>\n<tr><td>Kuulen tämän kysymyksen usein tes-neuvotteluiden aikaan. No, aloitetaanpa ihan alusta. Kuulutko itse ammattiliittoon? Ja ei, ei ole olemassa ”Loimaan liittoa”. On olemassa Loimaan kassa, YTK, joka on työnantajien perustama kassa. Olen myös kuullut kysymyksen ”Miksei PAM (eli ammattiliittoni) ole sop</td></tr>\n<tr><td>JavaScript tulee olla käytössä pystyäksesi näkemään sivun sisällön. Ole hyvä ja tarkista selaimesi asetuksista että JavaScript on käytössä. Ajokiellossa ollut mies rysäytti autollaan ojaan Siilinjärven Laitilantiellä lauantaiaamuna kello viiden aikaan. Mies puhalsi poliisin</td></tr>\n<tr><td>Työelämän kehittäminen painottui aikaisemmin erityisesti vanhempiin työntekijäryhmiin. Tavoitteena oli tukea työssä jatkamista, pidentää työuria ja myöhentää eläkkeelle siirtymistä. Siitä ei ole pitkää aikaa, kun osa työntekijöistä vielä luokiteltiin ”ikääntyneiksi</td></tr>\n<tr><td>Rovakatu 32, 96200 Rovaniemi Valtakatu 10, 94100 Kemi Länsiranta 10, 1. krs, 95400 Tornio Sodankylä / Elina Melamies 040 661 9409 Inari ja Utsjoki / Olli Miettunen 044 595 9668</td></tr>\n<tr><td>Hämeen poliisin partio oli perjantaina iltapäivällä selvittämässä toista rikosta Lahden keskustassa kauppakeskus Triossa, kun vartija tuli kertomaan tiloissa tapahtuneesta huumausainerikoksesta. Poliisin mukaan 42-vuotias mies oli tarjonnut neljälle nuorelle amfetamiinia. Nuoret eivät</td></tr>\n<tr><td>Iäkäs rattijuoppo törmäsi vastaantulleeseen autoon valtatie kymmenen ja Äikkääntien risteyksessä Tammelassa perjantaina.Humalassa liikenteeseen lähtenyt iäkäs mies oli kääntymässä Äikkääntieltä valtatielle, mutta hän ei huomannut samaan aikaan valtatiellä Hämeenlinnan suunnasta</td></tr>\n<tr><td>Puijon Pesis ja Joensuun Maila ovat solmineet strategisen kumppanuussopimuksen. Sopimuksen avulla Savo-Karjalan alueelle luodaan vahva seurapari. Seurojen tarkoituksena on kasvattaa mielenkiintoa pesäpalloon ja kehittää itäsuomalaista pelaajapolkua. Facebook Twitter Kuopio ja Joensuu ovat omien</td></tr>\n<tr><td>Suomen jalkapallomaajoukkueen historiallinen EM-kisapaikka aiheutti Suomessa valtavan hurmoksen. Kokenut puolustaja Joona Toivio ei osannut ennakoida, että katsojat juoksisivat kentälle. - Päässä löi vähän tyhjää, eikä sitä havainnoinut, mitä tapahtui. Yhtäkkiä oltiinkin ihmismeren</td></tr>\n<tr><td>Suomessa on vasemmistolaisin hallitus 1970-luvun alun jälkeen. Pääministerinä on ammattiliittojen tuella asemiinsa noussut ay-jyrä. Kuitenkin maata uhkaa pahin lakkoaalto vuosikymmeniin. Tavanomaisesti postilakko nauttii aluksi laajaa myötätuntoa. Entä, jos se venyy varoitusten mukaan</td></tr>\n<tr><td>Tietokirjallisuuden edistämispalkinto myönnetään henkilölle, joka on ansiokkaasti edistänyt tietokirjallisuuden ja tietokirjailijoiden asemaa.</td></tr>\n<tr><td>Suomen miesten jalkapallomaajoukkueen päävalmentajasta Markku Kanervasta on tullut kulttihahmo. Lapsuuden pihapeleistä periytyvän Rive-lempinimen lisäksi on puhuttu riveluutiosta, Riven valmentaman joukkueen evoluutiosta tai revoluutiosta eli vallankumouksesta. Kirjailija Miika Nousiainen, lehtikuvaaja Martti Kainulainen ja entinen ...</td></tr>\n<tr><td>42- ja 23-vuotiaita miehiä epäillään huumausainerikoksista. Lahti 16.11.2019 klo 11.05 Hämeen poliisi otti kiinni kaksi huumekauppiasta Lahdessa perjantaina. Epäillyt rikokset tapahtuivat kauppakeskuksessa. Molemmissa tapauksissa huumeita tarjottiin nuorille, poliisi kertoo. Ensimmäinen teko</td></tr>\n<tr><td>Urheilutoimittaja Kaj ”Kaitsu” Kunnas, 56, on saanut kutsun Linnan juhliin. Kaitsu sanoo kutsun olleen iloinen yllätys. - Kivahan se on tuollainen kutsu saada. Lämmittää mieltä, tulee nöyrä olo. Lue myös: Kaj Kunnas hämmästyi Lauri Markkasen fanitapaamisesta – ”On tämä huikeaa</td></tr>\n<tr><td>Olet lukenut 1/5 maksutonta uutista. Vasemmistoliitto on kokoontunut kolmipäiväiseen puoluekokoukseen Kuopioon. Vasemmistoliiton puheenjohtaja Li Andersson. Antti Mannermaa Ministeri Li Andersson latasi kovaa tekstiä Audi-miehistä ja ”mersupersuista” – syyttää haluista leikata julkisia</td></tr>\n<tr><td>Vihdoin se oikea. Raaseporissa asuva Tony Troberg, 50, on aina ollut kova saunomaan ja kokeillut elämässään monenlaisia kiukaita, mutta löylyistä on aina puuttunut se jokin, joka tekisi saunomisesta täydellistä. Niinpä mies päätti tehdä kiukaan itse. Hän löysi roskalavalta kotimaisen</td></tr>\n<tr><td>Ravintola. Jeti’s Kebab sai alkunsa vauhdikkaasta viikonlopusta Tallinnassa.Kuva: SAMI LOTILA Jeti’s Kebab -ravintola sai alkunsa vauhdikkaasta viikonlopusta Tallinnassa. Lukuaika noin 2 min Tallinna Kovassa vauhdissa oleva, yli miljoona euroa viime vuonna tienannut kiinteistönvälittäjä ja</td></tr>\n<tr><td>JavaScript tulee olla käytössä pystyäksesi näkemään sivun sisällön. Ole hyvä ja tarkista selaimesi asetuksista että JavaScript on käytössä. Yorkin herttua prinssi Andrew sanoo, ettei muista ikinä tavanneensa naista, joka syyttää häntä ja edesmennyttä amerikkalaismiljonääri</td></tr>\n<tr><td>Pelicansin A-nuoret kohtaavat jääkiekon SM-liigassa Sportin. Sport kaatoi viime keväänä lahtelaiset pronssiottelussa maalein 2-0. Tämä kausi on kuitenkin alkanut Sportilta varsin vaisusti. Vaasalaiset ovat hävinneet 22 pelistään peräti 17 ja ovat sarjassa toiseksi viimeisinä. Joukkueet</td></tr>\n<tr><td>Työelämän kehittämisen kohteet muuttuvat. Tällä hetkellä huomio kiinnittyy nuoriin ikäryhmiin. Kun elämänhallinnan perusasioita ei ole opittu perheessä ja koulussa, ongelmat siirtyvät työpaikoille. Pelaaminen ja sosiaalinen media vievät monen nuoren työntekijän aikaa niin, että uni</td></tr>\n<tr><td>Fluoripelko saa ihmiset lopettamaan tavallisten hammastahnojen käytön. Suomalaisten usko vaihtoehtohoitoihin on vähentynyt, mutta yhä varsin moni luottaa luontaislääkkeisiin. Tämä todetaan tuoreessa Tiedebarometrissä. Kurkuma ja punariisi ovat esimerkkejä luonnon omista tuotteista, joiden</td></tr>\n<tr><td>Suomen jalkapallomaajoukkueen historiallisen saavutuksen kunniaksi koko Suomi on tervetullut Kansalaistorille Helsinkiin. Palloliitto kertoo, että kansanjuhla järjestetään ensi tiistaina 19. marraskuuta kello 19 alkaen. Koko Huuhkajien joukkueen lisäksi lavalle ovat lupautuneet ainakin JVG</td></tr>\n<tr><td>Voiko 56-vuotiaana saada samoja säväreitä kuin 16-vuotiaana? Kannattaako kokeilla? Uskaltaako kokeilla? Vai onko edessä vain paha pettymys? Kysymykset nousivat mieleen, kun Hassisen kone ilmoitti soittavansa ensi kesänä keikkoja alkuperäisellä vuoden 1980 kokoonpanollaan 40-vuotisuuden</td></tr>\n<tr><td>Vahvin kannatus joulujuhlan pidolle kirkossa on oppositiossa, jossa kaikki vastasivat kyllä kirkolle joulujuhlapaikkana. Eduskunnan apulaisoikeusasiamies linjasi viime viikolla että, koulun joulujuhla on osa opetussuunnitelmaa eikä sitä saa järjestää kirkossa uskonnollisesti</td></tr>\n<tr><td>Marko ja Milla Asell ovat samaa mieltä kuin Autokoululiitto: Liukasrataharjoittelu tulisi palauttaa ajo-opetukseen. Ajoharjoitteluratoja on lakkautettu eri puolilla Suomea sen jälkeen, kun niiden käyttö ei enää ole pakollista ajokortin saamiseksi.</td></tr>\n<tr><td>&quot;Aloin oikein pohtia uutuuden viehätystä. Ei niitä lumiukkoja nimittäin ihan tuohon tahtiin pitkin talvea pyöritellä, mutta ensilumi jaksaa erityisesti viehättää.&quot; Ensilumi tuli ja lapset olivat innoissaan. Heti kun maa oli vähänkään valkoinen, juoksi koko kolmikko pihalle</td></tr>\n<tr><td>Tikkanen onnistuu toivon mukaan ainakin kumoamaan perimätiedon virheitä, joita yhä liikkuu susien vuosina 1880–82 tekemistä lapsisurmista. Jouni Tikkanen: Lauma. 1880-luvun lastensurmat ja susiviha Suomessa. 272 sivua. Otava Jaa Facebookiin Jaa Twitteriin Jaa WhatsAppissa Jaa Sähköpostiin</td></tr>\n<tr><td>Peltojen laajamittainen metsitys erityisesti turvemailla nousi perjantaina esiin yhtenä monista toimista, joiden avulla Suomesta voi tulla hallituksen tavoitteen mukaisesti hiilineutraali jo vuoteen 2035 mennessä. Voit lukea tämän artikkelin, jos olet Karjalaisen tilaaja</td></tr>\n<tr><td>Radio 1899: Väräjämätön elokuva nähtävissä – kiertävä elo­ku­va­teat­te­ri ilahdutti Oulun nuorisoa tammikuussa 1906 Tykkää Kommentoi JAA: Kaleva Podcast 16.11.2019 6:00 Kaleva Ouluun on saatu kiertävä elokuvateatteri, jossa joka viikko on uusi suuremmoinen ohjelma</td></tr>\n<tr><td>36 joukkuetta osallistuu miesten suomensarjaan ja 39 joukkuetta naisten suomensarjaan kaudella 2020. Aiemmin tiedotettujen lisäksi Pesäpalloliiton operatiivinen johtoryhmä on myöntänyt Pesäkarhuille Porista toisen naisten suomensarjapaikan. Facebook Twitter Miesten maakuntasarjan vaihtavat</td></tr>\n<tr><td>Solakka varas mahtui vaneriluukusta varkaisiin ja tiesi, mitä vei Voikkaalla — Pimeä on saanut murtovarkaat liikkeelle Kouvolassa. Epämääräisistä autoista ja liikkujista kannattaa ottaa rekisteritunnus ja tuntomerkit ylös, poliisi neuvoo.</td></tr>\n<tr><td>Oulusta loppunut puu ja turve sanoo paikallisen energiayhtiön johtaja. Hinnat nousee kun lähipitäjistä aletaan kuskaamaan. Vettä tulee kuulemma samassa kuormasa senverran että me oululaiset voidaan olla ylpeitä omasta puhtaasta pohjavedestäkin. Onneksi olemme omavaraisia täällä Oulusa</td></tr></table>",
            "text/plain": "<IPython.core.display.HTML object>"
          },
          "execution_count": 1,
          "metadata": {},
          "output_type": "execute_result"
        }
      ],
      "source": [
        "import requests\n",
        "\n",
        "# Cognitive services subscription\n",
        "subscription_key = \"YourKey\"\n",
        "\n",
        "# Bing News Search variables\n",
        "search_term = \"\"\n",
        "search_market = \"fi-fi\"\n",
        "search_count = \"100\"\n",
        "search_freshness = \"Day\"\n",
        "search_url = \"https://northeurope.api.cognitive.microsoft.com/bing/v7.0/news/search\"\n",
        "\n",
        "# Bing News Search\n",
        "search_headers = {\"Ocp-Apim-Subscription-Key\" : subscription_key}\n",
        "search_params  = {\"q\": search_term, \"mkt\": search_market, \"count\": search_count, \"freshness\": search_freshness, \"textDecorations\": True, \"textFormat\": \"HTML\"}\n",
        "search_response = requests.get(search_url, headers=search_headers, params=search_params)\n",
        "search_response.raise_for_status()\n",
        "search_results = search_response.json()\n",
        "# print(search_results)\n",
        "\n",
        "descriptions = [article[\"description\"] for article in search_results[\"value\"]]\n",
        "print(descriptions)\n",
        "\n",
        "from IPython.display import HTML\n",
        "rows = \"\\n\".join([\"<tr><td>{0}</td></tr>\".format(desc) for desc in descriptions])\n",
        "HTML(\"<table>\"+rows+\"</table>\")"
      ]
    },
    {
      "cell_type": "markdown",
      "metadata": {},
      "source": [
        "# Sentiment Analysis\n",
        "\n",
        "Analyse news sentiment with Azure Cognitive Services text analytics.\n",
        "\n",
        "https://docs.microsoft.com/fi-fi/azure/cognitive-services/translator/tutorial-build-flask-app-translation-synthesis?toc=%2F%2Fazure%2Fcognitive-services%2Ftext-analytics%2Ftoc.json&bc=%2F%2Fazure%2Fbread%2Ftoc.json"
      ]
    },
    {
      "cell_type": "code",
      "execution_count": 28,
      "metadata": {
        "trusted": true
      },
      "outputs": [
        {
          "name": "stdout",
          "output_type": "stream",
          "text": "{'documents': [{'id': '1', 'score': 0.7035225033760071}], 'errors': []}\n"
        }
      ],
      "source": [
        "import os, requests, uuid, json\n",
        "\n",
        "# Cognitive services subscription\n",
        "subscription_key = \"YourKey\"\n",
        "\n",
        "# Sentiment Analysis variables\n",
        "sentiment_url = \"https://northeurope.api.cognitive.microsoft.com/text/analytics/v2.0/sentiment\"\n",
        "sentiment_language = \"fi\"\n",
        "sentiment_text = 'Etelä-Karjalan käräjäoikeus pohtii parhaillaan, syyllistyikö lastentarhanopettaja pahoinpitelyyn purressaan 5-vuotiasta poikaa olkapäähän. Epäilykset pahoinpitelystä heräsivät lapsen äidillä toukokuisena torstai-iltana, kun hän lapsen kanssa saunoessaan huomasi puremajäljen pojan'\n",
        "\n",
        "# Sentiment Analysis\n",
        "sentiment_headers = {\n",
        "    'Ocp-Apim-Subscription-Key': subscription_key,\n",
        "    'Content-type': 'application/json',\n",
        "    'X-ClientTraceId': str(uuid.uuid4())\n",
        "}\n",
        "\n",
        "sentiment_body = {\n",
        "    'documents': [\n",
        "        {\n",
        "            'language': sentiment_language,\n",
        "            'id': '1',\n",
        "            'text': sentiment_text\n",
        "        }\n",
        "    ]\n",
        "}\n",
        "\n",
        "sentiment_response = requests.post(sentiment_url, headers=sentiment_headers, json=sentiment_body)\n",
        "sentiment = sentiment_response.json()\n",
        "print(sentiment)\n"
      ]
    },
    {
      "cell_type": "markdown",
      "metadata": {},
      "source": [
        "# Combined News Search with Sentiment Analysis\n",
        "\n",
        "Combined the search and analysis to one run."
      ]
    },
    {
      "cell_type": "code",
      "execution_count": 5,
      "metadata": {},
      "outputs": [
        {
          "name": "stdout",
          "output_type": "stream",
          "text": "Getting news\n\nStarting sentiment analysis\n\nGot yet another sentiment score: 0.7028282284736633\nGot yet another sentiment score: 0.7975459694862366\nGot yet another sentiment score: 0.6335667371749878\nGot yet another sentiment score: 0.6478186249732971\nGot yet another sentiment score: 0.6149813532829285\nGot yet another sentiment score: 0.6338865160942078\nGot yet another sentiment score: 0.773556649684906\nGot yet another sentiment score: 0.7941176295280457\nGot yet another sentiment score: 0.7631579041481018\nGot yet another sentiment score: 0.6698604822158813\nGot yet another sentiment score: 0.5979468822479248\nGot yet another sentiment score: 0.5370851159095764\nGot yet another sentiment score: 0.7481802701950073\nGot yet another sentiment score: 0.5602291226387024\nGot yet another sentiment score: 0.3675227165222168\nGot yet another sentiment score: 0.7777777910232544\nGot yet another sentiment score: 0.7300007939338684\nGot yet another sentiment score: 0.8225806355476379\nGot yet another sentiment score: 0.534469723701477\nGot yet another sentiment score: 0.6733892560005188\nGot yet another sentiment score: 0.5983521938323975\nGot yet another sentiment score: 0.528234601020813\nGot yet another sentiment score: 0.4600948691368103\nGot yet another sentiment score: 0.7346835732460022\nGot yet another sentiment score: 0.7110208868980408\nGot yet another sentiment score: 0.7090829014778137\nGot yet another sentiment score: 0.6663774251937866\nGot yet another sentiment score: 0.44313013553619385\nGot yet another sentiment score: 0.5925077795982361\nGot yet another sentiment score: 0.612916111946106\nGot yet another sentiment score: 0.5315570831298828\nGot yet another sentiment score: 0.5790722966194153\nGot yet another sentiment score: 0.6835804581642151\nGot yet another sentiment score: 0.660657525062561\nGot yet another sentiment score: 0.5567046999931335\nGot yet another sentiment score: 0.709013819694519\n\nSentiment score list:\n[0.7028282284736633, 0.7975459694862366, 0.6335667371749878, 0.6478186249732971, 0.6149813532829285, 0.6338865160942078, 0.773556649684906, 0.7941176295280457, 0.7631579041481018, 0.6698604822158813, 0.5979468822479248, 0.5370851159095764, 0.7481802701950073, 0.5602291226387024, 0.3675227165222168, 0.7777777910232544, 0.7300007939338684, 0.8225806355476379, 0.534469723701477, 0.6733892560005188, 0.5983521938323975, 0.528234601020813, 0.4600948691368103, 0.7346835732460022, 0.7110208868980408, 0.7090829014778137, 0.6663774251937866, 0.44313013553619385, 0.5925077795982361, 0.612916111946106, 0.5315570831298828, 0.5790722966194153, 0.6835804581642151, 0.660657525062561, 0.5567046999931335, 0.709013819694519]\n\nSentiment mean:\n0.6432635767592324\n"
        },
        {
          "data": {
            "application/vnd.plotly.v1+json": {
              "config": {
                "plotlyServerURL": "https://plot.ly"
              },
              "data": [
                {
                  "box": {
                    "visible": true
                  },
                  "fillcolor": "blue",
                  "line": {
                    "color": "white"
                  },
                  "meanline": {
                    "visible": true
                  },
                  "opacity": 0.6,
                  "type": "violin",
                  "x0": "News Sentiment in Finland - higher the value, better the sentiment",
                  "y": [
                    0.7028282284736633,
                    0.7975459694862366,
                    0.6335667371749878,
                    0.6478186249732971,
                    0.6149813532829285,
                    0.6338865160942078,
                    0.773556649684906,
                    0.7941176295280457,
                    0.7631579041481018,
                    0.6698604822158813,
                    0.5979468822479248,
                    0.5370851159095764,
                    0.7481802701950073,
                    0.5602291226387024,
                    0.3675227165222168,
                    0.7777777910232544,
                    0.7300007939338684,
                    0.8225806355476379,
                    0.534469723701477,
                    0.6733892560005188,
                    0.5983521938323975,
                    0.528234601020813,
                    0.4600948691368103,
                    0.7346835732460022,
                    0.7110208868980408,
                    0.7090829014778137,
                    0.6663774251937866,
                    0.44313013553619385,
                    0.5925077795982361,
                    0.612916111946106,
                    0.5315570831298828,
                    0.5790722966194153,
                    0.6835804581642151,
                    0.660657525062561,
                    0.5567046999931335,
                    0.709013819694519
                  ]
                }
              ],
              "layout": {
                "template": {
                  "data": {
                    "bar": [
                      {
                        "error_x": {
                          "color": "#2a3f5f"
                        },
                        "error_y": {
                          "color": "#2a3f5f"
                        },
                        "marker": {
                          "line": {
                            "color": "#E5ECF6",
                            "width": 0.5
                          }
                        },
                        "type": "bar"
                      }
                    ],
                    "barpolar": [
                      {
                        "marker": {
                          "line": {
                            "color": "#E5ECF6",
                            "width": 0.5
                          }
                        },
                        "type": "barpolar"
                      }
                    ],
                    "carpet": [
                      {
                        "aaxis": {
                          "endlinecolor": "#2a3f5f",
                          "gridcolor": "white",
                          "linecolor": "white",
                          "minorgridcolor": "white",
                          "startlinecolor": "#2a3f5f"
                        },
                        "baxis": {
                          "endlinecolor": "#2a3f5f",
                          "gridcolor": "white",
                          "linecolor": "white",
                          "minorgridcolor": "white",
                          "startlinecolor": "#2a3f5f"
                        },
                        "type": "carpet"
                      }
                    ],
                    "choropleth": [
                      {
                        "colorbar": {
                          "outlinewidth": 0,
                          "ticks": ""
                        },
                        "type": "choropleth"
                      }
                    ],
                    "contour": [
                      {
                        "colorbar": {
                          "outlinewidth": 0,
                          "ticks": ""
                        },
                        "colorscale": [
                          [
                            0,
                            "#0d0887"
                          ],
                          [
                            0.1111111111111111,
                            "#46039f"
                          ],
                          [
                            0.2222222222222222,
                            "#7201a8"
                          ],
                          [
                            0.3333333333333333,
                            "#9c179e"
                          ],
                          [
                            0.4444444444444444,
                            "#bd3786"
                          ],
                          [
                            0.5555555555555556,
                            "#d8576b"
                          ],
                          [
                            0.6666666666666666,
                            "#ed7953"
                          ],
                          [
                            0.7777777777777778,
                            "#fb9f3a"
                          ],
                          [
                            0.8888888888888888,
                            "#fdca26"
                          ],
                          [
                            1,
                            "#f0f921"
                          ]
                        ],
                        "type": "contour"
                      }
                    ],
                    "contourcarpet": [
                      {
                        "colorbar": {
                          "outlinewidth": 0,
                          "ticks": ""
                        },
                        "type": "contourcarpet"
                      }
                    ],
                    "heatmap": [
                      {
                        "colorbar": {
                          "outlinewidth": 0,
                          "ticks": ""
                        },
                        "colorscale": [
                          [
                            0,
                            "#0d0887"
                          ],
                          [
                            0.1111111111111111,
                            "#46039f"
                          ],
                          [
                            0.2222222222222222,
                            "#7201a8"
                          ],
                          [
                            0.3333333333333333,
                            "#9c179e"
                          ],
                          [
                            0.4444444444444444,
                            "#bd3786"
                          ],
                          [
                            0.5555555555555556,
                            "#d8576b"
                          ],
                          [
                            0.6666666666666666,
                            "#ed7953"
                          ],
                          [
                            0.7777777777777778,
                            "#fb9f3a"
                          ],
                          [
                            0.8888888888888888,
                            "#fdca26"
                          ],
                          [
                            1,
                            "#f0f921"
                          ]
                        ],
                        "type": "heatmap"
                      }
                    ],
                    "heatmapgl": [
                      {
                        "colorbar": {
                          "outlinewidth": 0,
                          "ticks": ""
                        },
                        "colorscale": [
                          [
                            0,
                            "#0d0887"
                          ],
                          [
                            0.1111111111111111,
                            "#46039f"
                          ],
                          [
                            0.2222222222222222,
                            "#7201a8"
                          ],
                          [
                            0.3333333333333333,
                            "#9c179e"
                          ],
                          [
                            0.4444444444444444,
                            "#bd3786"
                          ],
                          [
                            0.5555555555555556,
                            "#d8576b"
                          ],
                          [
                            0.6666666666666666,
                            "#ed7953"
                          ],
                          [
                            0.7777777777777778,
                            "#fb9f3a"
                          ],
                          [
                            0.8888888888888888,
                            "#fdca26"
                          ],
                          [
                            1,
                            "#f0f921"
                          ]
                        ],
                        "type": "heatmapgl"
                      }
                    ],
                    "histogram": [
                      {
                        "marker": {
                          "colorbar": {
                            "outlinewidth": 0,
                            "ticks": ""
                          }
                        },
                        "type": "histogram"
                      }
                    ],
                    "histogram2d": [
                      {
                        "colorbar": {
                          "outlinewidth": 0,
                          "ticks": ""
                        },
                        "colorscale": [
                          [
                            0,
                            "#0d0887"
                          ],
                          [
                            0.1111111111111111,
                            "#46039f"
                          ],
                          [
                            0.2222222222222222,
                            "#7201a8"
                          ],
                          [
                            0.3333333333333333,
                            "#9c179e"
                          ],
                          [
                            0.4444444444444444,
                            "#bd3786"
                          ],
                          [
                            0.5555555555555556,
                            "#d8576b"
                          ],
                          [
                            0.6666666666666666,
                            "#ed7953"
                          ],
                          [
                            0.7777777777777778,
                            "#fb9f3a"
                          ],
                          [
                            0.8888888888888888,
                            "#fdca26"
                          ],
                          [
                            1,
                            "#f0f921"
                          ]
                        ],
                        "type": "histogram2d"
                      }
                    ],
                    "histogram2dcontour": [
                      {
                        "colorbar": {
                          "outlinewidth": 0,
                          "ticks": ""
                        },
                        "colorscale": [
                          [
                            0,
                            "#0d0887"
                          ],
                          [
                            0.1111111111111111,
                            "#46039f"
                          ],
                          [
                            0.2222222222222222,
                            "#7201a8"
                          ],
                          [
                            0.3333333333333333,
                            "#9c179e"
                          ],
                          [
                            0.4444444444444444,
                            "#bd3786"
                          ],
                          [
                            0.5555555555555556,
                            "#d8576b"
                          ],
                          [
                            0.6666666666666666,
                            "#ed7953"
                          ],
                          [
                            0.7777777777777778,
                            "#fb9f3a"
                          ],
                          [
                            0.8888888888888888,
                            "#fdca26"
                          ],
                          [
                            1,
                            "#f0f921"
                          ]
                        ],
                        "type": "histogram2dcontour"
                      }
                    ],
                    "mesh3d": [
                      {
                        "colorbar": {
                          "outlinewidth": 0,
                          "ticks": ""
                        },
                        "type": "mesh3d"
                      }
                    ],
                    "parcoords": [
                      {
                        "line": {
                          "colorbar": {
                            "outlinewidth": 0,
                            "ticks": ""
                          }
                        },
                        "type": "parcoords"
                      }
                    ],
                    "pie": [
                      {
                        "automargin": true,
                        "type": "pie"
                      }
                    ],
                    "scatter": [
                      {
                        "marker": {
                          "colorbar": {
                            "outlinewidth": 0,
                            "ticks": ""
                          }
                        },
                        "type": "scatter"
                      }
                    ],
                    "scatter3d": [
                      {
                        "line": {
                          "colorbar": {
                            "outlinewidth": 0,
                            "ticks": ""
                          }
                        },
                        "marker": {
                          "colorbar": {
                            "outlinewidth": 0,
                            "ticks": ""
                          }
                        },
                        "type": "scatter3d"
                      }
                    ],
                    "scattercarpet": [
                      {
                        "marker": {
                          "colorbar": {
                            "outlinewidth": 0,
                            "ticks": ""
                          }
                        },
                        "type": "scattercarpet"
                      }
                    ],
                    "scattergeo": [
                      {
                        "marker": {
                          "colorbar": {
                            "outlinewidth": 0,
                            "ticks": ""
                          }
                        },
                        "type": "scattergeo"
                      }
                    ],
                    "scattergl": [
                      {
                        "marker": {
                          "colorbar": {
                            "outlinewidth": 0,
                            "ticks": ""
                          }
                        },
                        "type": "scattergl"
                      }
                    ],
                    "scattermapbox": [
                      {
                        "marker": {
                          "colorbar": {
                            "outlinewidth": 0,
                            "ticks": ""
                          }
                        },
                        "type": "scattermapbox"
                      }
                    ],
                    "scatterpolar": [
                      {
                        "marker": {
                          "colorbar": {
                            "outlinewidth": 0,
                            "ticks": ""
                          }
                        },
                        "type": "scatterpolar"
                      }
                    ],
                    "scatterpolargl": [
                      {
                        "marker": {
                          "colorbar": {
                            "outlinewidth": 0,
                            "ticks": ""
                          }
                        },
                        "type": "scatterpolargl"
                      }
                    ],
                    "scatterternary": [
                      {
                        "marker": {
                          "colorbar": {
                            "outlinewidth": 0,
                            "ticks": ""
                          }
                        },
                        "type": "scatterternary"
                      }
                    ],
                    "surface": [
                      {
                        "colorbar": {
                          "outlinewidth": 0,
                          "ticks": ""
                        },
                        "colorscale": [
                          [
                            0,
                            "#0d0887"
                          ],
                          [
                            0.1111111111111111,
                            "#46039f"
                          ],
                          [
                            0.2222222222222222,
                            "#7201a8"
                          ],
                          [
                            0.3333333333333333,
                            "#9c179e"
                          ],
                          [
                            0.4444444444444444,
                            "#bd3786"
                          ],
                          [
                            0.5555555555555556,
                            "#d8576b"
                          ],
                          [
                            0.6666666666666666,
                            "#ed7953"
                          ],
                          [
                            0.7777777777777778,
                            "#fb9f3a"
                          ],
                          [
                            0.8888888888888888,
                            "#fdca26"
                          ],
                          [
                            1,
                            "#f0f921"
                          ]
                        ],
                        "type": "surface"
                      }
                    ],
                    "table": [
                      {
                        "cells": {
                          "fill": {
                            "color": "#EBF0F8"
                          },
                          "line": {
                            "color": "white"
                          }
                        },
                        "header": {
                          "fill": {
                            "color": "#C8D4E3"
                          },
                          "line": {
                            "color": "white"
                          }
                        },
                        "type": "table"
                      }
                    ]
                  },
                  "layout": {
                    "annotationdefaults": {
                      "arrowcolor": "#2a3f5f",
                      "arrowhead": 0,
                      "arrowwidth": 1
                    },
                    "coloraxis": {
                      "colorbar": {
                        "outlinewidth": 0,
                        "ticks": ""
                      }
                    },
                    "colorscale": {
                      "diverging": [
                        [
                          0,
                          "#8e0152"
                        ],
                        [
                          0.1,
                          "#c51b7d"
                        ],
                        [
                          0.2,
                          "#de77ae"
                        ],
                        [
                          0.3,
                          "#f1b6da"
                        ],
                        [
                          0.4,
                          "#fde0ef"
                        ],
                        [
                          0.5,
                          "#f7f7f7"
                        ],
                        [
                          0.6,
                          "#e6f5d0"
                        ],
                        [
                          0.7,
                          "#b8e186"
                        ],
                        [
                          0.8,
                          "#7fbc41"
                        ],
                        [
                          0.9,
                          "#4d9221"
                        ],
                        [
                          1,
                          "#276419"
                        ]
                      ],
                      "sequential": [
                        [
                          0,
                          "#0d0887"
                        ],
                        [
                          0.1111111111111111,
                          "#46039f"
                        ],
                        [
                          0.2222222222222222,
                          "#7201a8"
                        ],
                        [
                          0.3333333333333333,
                          "#9c179e"
                        ],
                        [
                          0.4444444444444444,
                          "#bd3786"
                        ],
                        [
                          0.5555555555555556,
                          "#d8576b"
                        ],
                        [
                          0.6666666666666666,
                          "#ed7953"
                        ],
                        [
                          0.7777777777777778,
                          "#fb9f3a"
                        ],
                        [
                          0.8888888888888888,
                          "#fdca26"
                        ],
                        [
                          1,
                          "#f0f921"
                        ]
                      ],
                      "sequentialminus": [
                        [
                          0,
                          "#0d0887"
                        ],
                        [
                          0.1111111111111111,
                          "#46039f"
                        ],
                        [
                          0.2222222222222222,
                          "#7201a8"
                        ],
                        [
                          0.3333333333333333,
                          "#9c179e"
                        ],
                        [
                          0.4444444444444444,
                          "#bd3786"
                        ],
                        [
                          0.5555555555555556,
                          "#d8576b"
                        ],
                        [
                          0.6666666666666666,
                          "#ed7953"
                        ],
                        [
                          0.7777777777777778,
                          "#fb9f3a"
                        ],
                        [
                          0.8888888888888888,
                          "#fdca26"
                        ],
                        [
                          1,
                          "#f0f921"
                        ]
                      ]
                    },
                    "colorway": [
                      "#636efa",
                      "#EF553B",
                      "#00cc96",
                      "#ab63fa",
                      "#FFA15A",
                      "#19d3f3",
                      "#FF6692",
                      "#B6E880",
                      "#FF97FF",
                      "#FECB52"
                    ],
                    "font": {
                      "color": "#2a3f5f"
                    },
                    "geo": {
                      "bgcolor": "white",
                      "lakecolor": "white",
                      "landcolor": "#E5ECF6",
                      "showlakes": true,
                      "showland": true,
                      "subunitcolor": "white"
                    },
                    "hoverlabel": {
                      "align": "left"
                    },
                    "hovermode": "closest",
                    "mapbox": {
                      "style": "light"
                    },
                    "paper_bgcolor": "white",
                    "plot_bgcolor": "#E5ECF6",
                    "polar": {
                      "angularaxis": {
                        "gridcolor": "white",
                        "linecolor": "white",
                        "ticks": ""
                      },
                      "bgcolor": "#E5ECF6",
                      "radialaxis": {
                        "gridcolor": "white",
                        "linecolor": "white",
                        "ticks": ""
                      }
                    },
                    "scene": {
                      "xaxis": {
                        "backgroundcolor": "#E5ECF6",
                        "gridcolor": "white",
                        "gridwidth": 2,
                        "linecolor": "white",
                        "showbackground": true,
                        "ticks": "",
                        "zerolinecolor": "white"
                      },
                      "yaxis": {
                        "backgroundcolor": "#E5ECF6",
                        "gridcolor": "white",
                        "gridwidth": 2,
                        "linecolor": "white",
                        "showbackground": true,
                        "ticks": "",
                        "zerolinecolor": "white"
                      },
                      "zaxis": {
                        "backgroundcolor": "#E5ECF6",
                        "gridcolor": "white",
                        "gridwidth": 2,
                        "linecolor": "white",
                        "showbackground": true,
                        "ticks": "",
                        "zerolinecolor": "white"
                      }
                    },
                    "shapedefaults": {
                      "line": {
                        "color": "#2a3f5f"
                      }
                    },
                    "ternary": {
                      "aaxis": {
                        "gridcolor": "white",
                        "linecolor": "white",
                        "ticks": ""
                      },
                      "baxis": {
                        "gridcolor": "white",
                        "linecolor": "white",
                        "ticks": ""
                      },
                      "bgcolor": "#E5ECF6",
                      "caxis": {
                        "gridcolor": "white",
                        "linecolor": "white",
                        "ticks": ""
                      }
                    },
                    "title": {
                      "x": 0.05
                    },
                    "xaxis": {
                      "automargin": true,
                      "gridcolor": "white",
                      "linecolor": "white",
                      "ticks": "",
                      "title": {
                        "standoff": 15
                      },
                      "zerolinecolor": "white",
                      "zerolinewidth": 2
                    },
                    "yaxis": {
                      "automargin": true,
                      "gridcolor": "white",
                      "linecolor": "white",
                      "ticks": "",
                      "title": {
                        "standoff": 15
                      },
                      "zerolinecolor": "white",
                      "zerolinewidth": 2
                    }
                  }
                },
                "yaxis": {
                  "zeroline": false
                }
              }
            }
          },
          "metadata": {},
          "output_type": "display_data"
        }
      ],
      "source": [
        "import os, requests, uuid, json, numpy\n",
        "import plotly.graph_objects as go\n",
        "\n",
        "# Cognitive services subscription\n",
        "subscription_key = \"YourKey\"\n",
        "\n",
        "# Bing News Search variables\n",
        "search_term = \"\"\n",
        "search_market = \"fi-fi\"\n",
        "search_count = \"100\"\n",
        "search_freshness = \"Day\"\n",
        "search_url = \"https://northeurope.api.cognitive.microsoft.com/bing/v7.0/news/search\"\n",
        "\n",
        "# Bing News Search\n",
        "search_headers = {\"Ocp-Apim-Subscription-Key\" : subscription_key}\n",
        "search_params  = {\"q\": search_term, \"mkt\": search_market, \"count\": search_count, \"freshness\": search_freshness, \"textDecorations\": True, \"textFormat\": \"HTML\"}\n",
        "search_response = requests.get(search_url, headers=search_headers, params=search_params)\n",
        "search_response.raise_for_status()\n",
        "search_results = search_response.json()\n",
        "print(\"Getting news\\n\")\n",
        "# print(search_results)\n",
        "\n",
        "descriptions = [article[\"description\"] for article in search_results[\"value\"]]\n",
        "# print(descriptions)\n",
        "\n",
        "# Sentiment Analysis variables\n",
        "sentiment_url = \"https://northeurope.api.cognitive.microsoft.com/text/analytics/v2.0/sentiment\"\n",
        "sentiment_language = \"fi\"\n",
        "i_d = 0\n",
        "sentiment_list = []\n",
        "\n",
        "# Sentiment Analysis\n",
        "print(\"Starting sentiment analysis\\n\")\n",
        "for sentiment_text in descriptions:\n",
        "    i_d += 1\n",
        "    sentiment_headers = {\n",
        "        'Ocp-Apim-Subscription-Key': subscription_key,\n",
        "        'Content-type': 'application/json',\n",
        "        'X-ClientTraceId': str(uuid.uuid4())\n",
        "    }\n",
        "\n",
        "    sentiment_body = {\n",
        "        'documents': [\n",
        "            {\n",
        "                'language': sentiment_language,\n",
        "                'id': i_d,\n",
        "                'text': sentiment_text\n",
        "            }\n",
        "        ]\n",
        "    }\n",
        "\n",
        "    sentiment_response = requests.post(sentiment_url, headers=sentiment_headers, json=sentiment_body)\n",
        "    sentiment_results = sentiment_response.json()\n",
        "    # print(sentiment_results)\n",
        "    \n",
        "    for scr in sentiment_results[\"documents\"]:\n",
        "        sentiment_score = scr[\"score\"]\n",
        "        sentiment_list.append(sentiment_score)\n",
        "        print(\"Got yet another sentiment score: \" + str(sentiment_score))\n",
        "\n",
        "print(\"\\nSentiment score list:\")\n",
        "print(sentiment_list)\n",
        "sentiment_avg = numpy.mean(sentiment_list)\n",
        "print(\"\\nSentiment mean:\")\n",
        "print(sentiment_avg)\n",
        "\n",
        "fig = go.Figure(data=go.Violin(y=sentiment_list, box_visible=True, line_color='white',\n",
        "                               meanline_visible=True, fillcolor='blue', opacity=0.6,\n",
        "                               x0='News Sentiment in Finland - higher the value, better the sentiment'))\n",
        "fig.update_layout(yaxis_zeroline=False)\n",
        "fig.show()"
      ]
    },
    {
      "cell_type": "code",
      "execution_count": null,
      "metadata": {
        "trusted": true
      },
      "outputs": [],
      "source": []
    }
  ],
  "metadata": {
    "kernelspec": {
      "name": "python36",
      "display_name": "Python 3.6",
      "language": "python"
    },
    "language_info": {
      "mimetype": "text/x-python",
      "nbconvert_exporter": "python",
      "name": "python",
      "pygments_lexer": "ipython3",
      "version": "3.6.6",
      "file_extension": ".py",
      "codemirror_mode": {
        "version": 3,
        "name": "ipython"
      }
    }
  },
  "nbformat": 4,
  "nbformat_minor": 2
}